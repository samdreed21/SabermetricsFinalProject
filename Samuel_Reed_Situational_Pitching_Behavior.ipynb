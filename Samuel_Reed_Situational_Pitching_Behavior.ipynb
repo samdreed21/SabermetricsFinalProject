{
 "cells": [
  {
   "cell_type": "markdown",
   "metadata": {},
   "source": [
    "Sabermetrics Final Project Plan - Situational Pitching Behavior\n",
    "    - Write a function that takes a playerID, Score, Runners on as an argument and sets it to the player ID being searched\n",
    "    - Write a query to look up that playerID in certain situation\n",
    "    - Compile certain statistics such as most likely pitch and pitch location\n",
    "    - Present statitics gathered with plots/text"
   ]
  },
  {
   "cell_type": "code",
   "execution_count": 74,
   "metadata": {},
   "outputs": [],
   "source": [
    "from pybaseball import statcast\n",
    "import pandas as pd\n",
    "import matplotlib.pyplot as plt"
   ]
  },
  {
   "cell_type": "code",
   "execution_count": 2,
   "metadata": {},
   "outputs": [
    {
     "name": "stdout",
     "output_type": "stream",
     "text": [
      "This is a large query, it may take a moment to complete\n",
      "Completed sub-query from 2017-04-01 to 2017-04-06\n",
      "Completed sub-query from 2017-04-07 to 2017-04-12\n",
      "Completed sub-query from 2017-04-13 to 2017-04-18\n",
      "Completed sub-query from 2017-04-19 to 2017-04-24\n",
      "Completed sub-query from 2017-04-25 to 2017-04-30\n",
      "Completed sub-query from 2017-05-01 to 2017-05-06\n",
      "Completed sub-query from 2017-05-07 to 2017-05-12\n",
      "Completed sub-query from 2017-05-13 to 2017-05-18\n",
      "Completed sub-query from 2017-05-19 to 2017-05-24\n",
      "Completed sub-query from 2017-05-25 to 2017-05-30\n",
      "Completed sub-query from 2017-05-31 to 2017-06-05\n",
      "Completed sub-query from 2017-06-06 to 2017-06-11\n",
      "Completed sub-query from 2017-06-12 to 2017-06-17\n",
      "Completed sub-query from 2017-06-18 to 2017-06-23\n",
      "Completed sub-query from 2017-06-24 to 2017-06-29\n",
      "Completed sub-query from 2017-06-30 to 2017-07-05\n",
      "Completed sub-query from 2017-07-06 to 2017-07-11\n",
      "Completed sub-query from 2017-07-12 to 2017-07-17\n",
      "Completed sub-query from 2017-07-18 to 2017-07-23\n",
      "Completed sub-query from 2017-07-24 to 2017-07-29\n",
      "Completed sub-query from 2017-07-30 to 2017-08-04\n",
      "Completed sub-query from 2017-08-05 to 2017-08-10\n",
      "Completed sub-query from 2017-08-11 to 2017-08-16\n",
      "Completed sub-query from 2017-08-17 to 2017-08-22\n",
      "Completed sub-query from 2017-08-23 to 2017-08-28\n",
      "Completed sub-query from 2017-08-29 to 2017-09-03\n",
      "Completed sub-query from 2017-09-04 to 2017-09-09\n",
      "Completed sub-query from 2017-09-10 to 2017-09-15\n",
      "Completed sub-query from 2017-09-16 to 2017-09-21\n",
      "Completed sub-query from 2017-09-22 to 2017-09-27\n",
      "Completed sub-query from 2017-09-28 to 2017-10-01\n"
     ]
    }
   ],
   "source": [
    "# query - very large, only run if no exisiting data csv\n",
    "data = statcast(start_dt='2017-04-01', end_dt='2017-10-01')"
   ]
  },
  {
   "cell_type": "code",
   "execution_count": 62,
   "metadata": {},
   "outputs": [
    {
     "name": "stderr",
     "output_type": "stream",
     "text": [
      "C:\\Users\\Sam\\Anaconda3\\lib\\site-packages\\IPython\\core\\interactiveshell.py:2785: DtypeWarning: Columns (45) have mixed types. Specify dtype option on import or set low_memory=False.\n",
      "  interactivity=interactivity, compiler=compiler, result=result)\n"
     ]
    }
   ],
   "source": [
    "# read query data to a csv is necessary, otherwise grab from csv\n",
    "# data.to_csv(\"final_pitching_data.csv\")\n",
    "data = pd.read_csv(\"final_pitching_data.csv\") "
   ]
  },
  {
   "cell_type": "code",
   "execution_count": 63,
   "metadata": {},
   "outputs": [],
   "source": [
    "def lookup(playerID, strikes, balls, on_1b, on_2b, on_3b):\n",
    "    # runner on first\n",
    "    if on_1b and not on_2b and not on_3b:\n",
    "        situation_data = data.loc[((data['pitcher'] == playerID) & (data['strikes'] == strikes) & (data['balls'] == balls)\n",
    "                                   & (data['on_1b'].notnull()) & (data['on_2b'].isnull()) & (data['on_3b'].isnull())), \n",
    "                                    ['pitcher', 'at_bat_number', 'pitch_type','type', 'plate_x', 'plate_z', 'strikes', 'balls', 'on_1b', 'on_2b', 'on_3b']]\n",
    "    \n",
    "    # runner on second\n",
    "    elif not on_1b and on_2b and not on_3b:\n",
    "        situation_data = data.loc[((data['pitcher'] == playerID) & (data['strikes'] == strikes) & (data['balls'] == balls)\n",
    "                                   & (data['on_1b'].isnull()) & (data['on_2b'].notnull()) & (data['on_3b'].isnull())), \n",
    "                                    ['pitcher', 'at_bat_number', 'pitch_type','type', 'plate_x', 'plate_z', 'strikes', 'balls', 'on_1b', 'on_2b', 'on_3b']]\n",
    "    \n",
    "    # runner on third\n",
    "    elif not on_1b and not on_2b and on_3b:\n",
    "        situation_data = data.loc[((data['pitcher'] == playerID) & (data['strikes'] == strikes) & (data['balls'] == balls)\n",
    "                                   & (data['on_1b'].isnull()) & (data['on_2b'].isnull()) & (data['on_3b'].notnull())), \n",
    "                                    ['pitcher', 'at_bat_number', 'pitch_type','type', 'plate_x', 'plate_z', 'strikes', 'balls', 'on_1b', 'on_2b', 'on_3b']]\n",
    "   \n",
    "    # runner on first and second\n",
    "    elif on_1b and on_2b and not on_3b:\n",
    "        situation_data = data.loc[((data['pitcher'] == playerID) & (data['strikes'] == strikes) & (data['balls'] == balls)\n",
    "                                   & (data['on_1b'].notnull()) & (data['on_2b'].notnull()) & (data['on_3b'].isnull())), \n",
    "                                    ['pitcher', 'at_bat_number', 'pitch_type','type', 'plate_x', 'plate_z', 'strikes', 'balls', 'on_1b', 'on_2b', 'on_3b']]\n",
    "    \n",
    "    # runner on first and third \n",
    "    elif on_1b and not on_2b and on_3b:\n",
    "        situation_data = data.loc[((data['pitcher'] == playerID) & (data['strikes'] == strikes) & (data['balls'] == balls)\n",
    "                                   & (data['on_1b'].notnull()) & (data['on_2b'].isnull()) & (data['on_3b'].notnull())), \n",
    "                                    ['pitcher', 'at_bat_number', 'pitch_type','type', 'plate_x', 'plate_z', 'strikes', 'balls', 'on_1b', 'on_2b', 'on_3b']]\n",
    "    \n",
    "    # runner on second and third\n",
    "    elif not on_1b and on_2b and on_3b:\n",
    "        situation_data = data.loc[((data['pitcher'] == playerID) & (data['strikes'] == strikes) & (data['balls'] == balls)\n",
    "                                   & (data['on_1b'].isnull()) & (data['on_2b'].notnull()) & (data['on_3b'].notnull())), \n",
    "                                    ['pitcher', 'at_bat_number', 'pitch_type','type', 'plate_x', 'plate_z', 'strikes', 'balls', 'on_1b', 'on_2b', 'on_3b']]\n",
    "    \n",
    "    # runner on first, second, third\n",
    "    elif on_1b and  on_2b and on_3b:\n",
    "        situation_data = data.loc[((data['pitcher'] == playerID) & (data['strikes'] == strikes) & (data['balls'] == balls)\n",
    "                                   & (data['on_1b'].notnull()) & (data['on_2b'].notnull()) & (data['on_3b'].notnull())), \n",
    "                                    ['pitcher', 'at_bat_number', 'pitch_type','type', 'plate_x', 'plate_z', 'strikes', 'balls', 'on_1b', 'on_2b', 'on_3b']]\n",
    "    # no runners on\n",
    "    elif not on_1b and not on_2b and not on_3b:\n",
    "        situation_data = data.loc[((data['pitcher'] == playerID) & (data['strikes'] == strikes) & (data['balls'] == balls)\n",
    "                                   & (data['on_1b'].isnull()) & (data['on_2b'].isnull()) & (data['on_3b'].isnull())), \n",
    "                                    ['pitcher', 'at_bat_number', 'pitch_type','type', 'plate_x', 'plate_z', 'strikes', 'balls', 'on_1b', 'on_2b', 'on_3b']]\n",
    "    return situation_data"
   ]
  },
  {
   "cell_type": "code",
   "execution_count": 212,
   "metadata": {},
   "outputs": [],
   "source": [
    "def isolate_data(sit_data):\n",
    "    # compare the types of pitches pitchers throw at home vs away\n",
    "    pitches = {}\n",
    "    descriptions = {}\n",
    "    pitch_type_counts = sit_data.groupby(['pitch_type']).count().reset_index()    \n",
    "    total_pitches = pitch_type_counts['pitcher'].sum()\n",
    "\n",
    "    #add the pitch types and their frequency to a dictionary \n",
    "    for index, row in pitch_type_counts.iterrows():\n",
    "        pitches[row['pitch_type']] = row['pitcher']\n",
    "        \n",
    "    # get mean location data\n",
    "    x_location_mean = sit_data['plate_x'].mean()\n",
    "    z_location_mean = sit_data['plate_z'].mean()\n",
    " \n",
    "    # get number of strikes/balls/hits thrown in situation\n",
    "    pitch_description_counts = sit_data.groupby(['type']).count().reset_index()\n",
    "    for index, row in pitch_description_counts.iterrows():\n",
    "        descriptions[row['type']] = row['pitcher']\n",
    "    \n",
    "    return total_pitches, pitches, descriptions, x_location_mean, z_location_mean"
   ]
  },
  {
   "cell_type": "code",
   "execution_count": 213,
   "metadata": {},
   "outputs": [],
   "source": [
    "def process_data(isol_data):\n",
    "    # if there is data for this situation, isolate the data points we are looking for\n",
    "    tot_pitches, pitch_counts, pitch_descriptions, x_loc_mean, z_loc_mean = isolate_data(isol_data)\n",
    "    # get the most likely pitch to be thrown\n",
    "    max_pitch = 0\n",
    "    # dictonary to store the types of pitches they could throw and the statistical frequency that they will\n",
    "    pitch_freqs = {}\n",
    "    for key, value in pitch_counts.items():\n",
    "        pitch_freqs[key] = value/tot_pitches\n",
    "\n",
    "    # dictionary to store outcome percentages\n",
    "    outcome_freqs = {}\n",
    "    for key, value in pitch_descriptions.items():\n",
    "        outcome_freqs[key] = value/tot_pitches\n",
    "\n",
    "    return tot_pitches, pitch_freqs, outcome_freqs, x_loc_mean, z_loc_mean\n",
    "       "
   ]
  },
  {
   "cell_type": "code",
   "execution_count": 223,
   "metadata": {},
   "outputs": [],
   "source": [
    "def display_results(p_data):\n",
    "    print(\"There are\", p_data[0], \"data points for this pitcher in this situation\")\n",
    "    \n",
    "    print(\"The odds that the pitcher will throw a specific pitch in this situation are the following \\n\", p_data[1])\n",
    "    plt.bar(range(len(p_data[1])), list(p_data[1].values()), align='center')\n",
    "    plt.xticks(range(len(p_data[1])), list(p_data[1].keys()))\n",
    "    plt.title(\"Pitch Frequencies\")\n",
    "    plt.xlabel(\"Pitch Type\")\n",
    "    plt.ylabel(\"Frequency\")\n",
    "    plt.show()\n",
    "    \n",
    "    print(\"The odds of a specific outcome (B - Ball, S - Strike, X - Ball In Play) are the following \\n\", p_data[2])\n",
    "    plt.bar(range(len(p_data[2])), list(p_data[2].values()), align='center')\n",
    "    plt.xticks(range(len(p_data[2])), list(p_data[2].keys()))\n",
    "    plt.title(\"Outcome Frequencies\")\n",
    "    plt.xlabel(\"Result of Pitch\")\n",
    "    plt.ylabel(\"Frequency\")\n",
    "    plt.show()\n",
    "    \n",
    "    # get the average location of where the pitch will be thrown based off the mean x (horizontal) location and mean z (vertical) location\n",
    "    print(\"The average position of the ball over the plate, from the catcher's perspective,\\n (0,0 being directly over the center of the plate in the middle of the batters box) \\n in this situation for this pitcher is \\n(\", p_data[3], \",\", p_data[4],\")\")\n",
    "    plt.plot(p_data[3], p_data[4], 'ro', markersize=15)\n",
    "    plt.grid(color='black', linestyle='-', linewidth=.8)\n",
    "    plt.axis([-5, 5, -5, 5])\n",
    "    plt.xlabel(\"Horiztional Position\")\n",
    "    plt.ylabel(\"Vertical Position\")\n",
    "    plt.title(\"Average Pitch Location\")\n",
    "    plt.show()"
   ]
  },
  {
   "cell_type": "code",
   "execution_count": 224,
   "metadata": {},
   "outputs": [],
   "source": [
    "def main(playerID, strikes, balls, on_1b, on_2b, on_3b):\n",
    "    # call the lookup function with the specified siutational parameters\n",
    "    SPB_data = lookup(playerID, strikes, balls, on_1b, on_2b, on_3b)\n",
    "    # if the length of the returned data frame is 0 there is no data for that specific situation\n",
    "    if (len(SPB_data) == 0):\n",
    "        print(\"No data available for described situation\")\n",
    "        return\n",
    "    \n",
    "    # process the isolated data\n",
    "    processed_data = process_data(SPB_data)\n",
    "\n",
    "    # display results\n",
    "    display_results(processed_data)"
   ]
  },
  {
   "cell_type": "code",
   "execution_count": 225,
   "metadata": {},
   "outputs": [
    {
     "name": "stdout",
     "output_type": "stream",
     "text": [
      "There are 29 data points for this pitcher in this situation\n",
      "The odds that the pitcher will throw a specific pitch in this situation are the following \n",
      " {'FC': 0.2413793103448276, 'FF': 0.3103448275862069, 'FT': 0.1724137931034483, 'SL': 0.27586206896551724}\n"
     ]
    },
    {
     "data": {
      "image/png": "[encoded data removed]",
      "text/plain": [
       "<Figure size 432x288 with 1 Axes>"
      ]
     },
     "metadata": {},
     "output_type": "display_data"
    },
    {
     "name": "stdout",
     "output_type": "stream",
     "text": [
      "The odds of a specific outcome (B - Ball, S - Strike, X - Ball In Play) are the following \n",
      " {'B': 0.20689655172413793, 'S': 0.4482758620689655, 'X': 0.3448275862068966}\n"
     ]
    },
    {
     "data": {
      "image/png": "[encoded data removed]",
      "text/plain": [
       "<Figure size 432x288 with 1 Axes>"
      ]
     },
     "metadata": {},
     "output_type": "display_data"
    },
    {
     "name": "stdout",
     "output_type": "stream",
     "text": [
      "The average position of the ball over the plate, from the catcher's perspective,\n",
      " (0,0 being directly over the center of the plate in the middle of the batters box) \n",
      " in this situation for this pitcher is \n",
      "( 0.25056896551724134 , 2.3588275862068966 )\n"
     ]
    },
    {
     "data": {
      "image/png": "[encoded data removed]",
      "text/plain": [
       "<Figure size 432x288 with 1 Axes>"
      ]
     },
     "metadata": {},
     "output_type": "display_data"
    }
   ],
   "source": [
    "main(532077.0, 2, 3, False, False, False)"
   ]
  },
  {
   "cell_type": "code",
   "execution_count": null,
   "metadata": {},
   "outputs": [],
   "source": []
  }
 ],
 "metadata": {
  "kernelspec": {
   "display_name": "Python 3",
   "language": "python",
   "name": "python3"
  },
  "language_info": {
   "codemirror_mode": {
    "name": "ipython",
    "version": 3
   },
   "file_extension": ".py",
   "mimetype": "text/x-python",
   "name": "python",
   "nbconvert_exporter": "python",
   "pygments_lexer": "ipython3",
   "version": "3.6.5"
  }
 },
 "nbformat": 4,
 "nbformat_minor": 2
}
