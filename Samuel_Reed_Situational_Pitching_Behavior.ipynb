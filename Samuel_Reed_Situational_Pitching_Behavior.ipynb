{
 "cells": [
  {
   "cell_type": "markdown",
   "metadata": {},
   "source": [
    "## Situational Pitching Behavior ##"
   ]
  },
  {
   "cell_type": "markdown",
   "metadata": {},
   "source": [
    "# Imports and data Query #\n",
    "For this project I will be using data from the entirety of the 2017 regular season. This query takes a very long time to run and should only be run if the user does not have access to final_pitching_data.csv"
   ]
  },
  {
   "cell_type": "code",
   "execution_count": null,
   "metadata": {},
   "outputs": [],
   "source": [
    "from pybaseball import statcast\n",
    "import pandas as pd\n",
    "import matplotlib.pyplot as plt\n",
    "from pybaseball import playerid_lookup"
   ]
  },
  {
   "cell_type": "code",
   "execution_count": null,
   "metadata": {},
   "outputs": [],
   "source": [
    "# query - very large, only run if no exisiting data csv\n",
    "data = statcast(start_dt='2017-04-01', end_dt='2017-10-01')"
   ]
  },
  {
   "cell_type": "markdown",
   "metadata": {},
   "source": [
    "Read from the csv into a dataframe"
   ]
  },
  {
   "cell_type": "code",
   "execution_count": null,
   "metadata": {},
   "outputs": [],
   "source": [
    "# read query data to a csv is necessary, otherwise grab from csv\n",
    "# data.to_csv(\"final_pitching_data.csv\")\n",
    "data = pd.read_csv(\"final_pitching_data.csv\") "
   ]
  },
  {
   "cell_type": "markdown",
   "metadata": {},
   "source": [
    "# Core Functions #\n",
    "    - lookup: responsible for pulling the specific pitching data from the dataframe\n",
    "    - isolate_data: statstical preprocessing of the lookup data\n",
    "    - process_data: shape the data into structures that can be easily displayed\n",
    "    - display_results: generate plots and print statements of processed data\n",
    "    - driver: driver function for submitting a specific situation query"
   ]
  },
  {
   "cell_type": "code",
   "execution_count": null,
   "metadata": {},
   "outputs": [],
   "source": [
    "def lookup(playerID, on_1b, on_2b, on_3b):\n",
    "    # runner on first\n",
    "    if on_1b and not on_2b and not on_3b:\n",
    "        situation_data = data.loc[((data['pitcher'] == playerID) & (data['on_1b'].notnull()) & (data['on_2b'].isnull()) & (data['on_3b'].isnull())), \n",
    "                                    ['pitcher', 'at_bat_number', 'pitch_type','type', 'plate_x', 'plate_z', 'strikes', 'balls', 'on_1b', 'on_2b', 'on_3b']]\n",
    "    \n",
    "    # runner on second\n",
    "    elif not on_1b and on_2b and not on_3b:\n",
    "        situation_data = data.loc[((data['pitcher'] == playerID) & (data['on_1b'].isnull()) & (data['on_2b'].notnull()) & (data['on_3b'].isnull())), \n",
    "                                    ['pitcher', 'at_bat_number', 'pitch_type','type', 'plate_x', 'plate_z', 'strikes', 'balls', 'on_1b', 'on_2b', 'on_3b']]\n",
    "    \n",
    "    # runner on third\n",
    "    elif not on_1b and not on_2b and on_3b:\n",
    "        situation_data = data.loc[((data['pitcher'] == playerID) & (data['on_1b'].isnull()) & (data['on_2b'].isnull()) & (data['on_3b'].notnull())), \n",
    "                                    ['pitcher', 'at_bat_number', 'pitch_type','type', 'plate_x', 'plate_z', 'strikes', 'balls', 'on_1b', 'on_2b', 'on_3b']]\n",
    "   \n",
    "    # runner on first and second\n",
    "    elif on_1b and on_2b and not on_3b:\n",
    "        situation_data = data.loc[((data['pitcher'] == playerID) & (data['on_1b'].notnull()) & (data['on_2b'].notnull()) & (data['on_3b'].isnull())), \n",
    "                                    ['pitcher', 'at_bat_number', 'pitch_type','type', 'plate_x', 'plate_z', 'strikes', 'balls', 'on_1b', 'on_2b', 'on_3b']]\n",
    "    \n",
    "    # runner on first and third \n",
    "    elif on_1b and not on_2b and on_3b:\n",
    "        situation_data = data.loc[((data['pitcher'] == playerID) & (data['on_1b'].notnull()) & (data['on_2b'].isnull()) & (data['on_3b'].notnull())), \n",
    "                                    ['pitcher', 'at_bat_number', 'pitch_type','type', 'plate_x', 'plate_z', 'strikes', 'balls', 'on_1b', 'on_2b', 'on_3b']]\n",
    "    \n",
    "    # runner on second and third\n",
    "    elif not on_1b and on_2b and on_3b:\n",
    "        situation_data = data.loc[((data['pitcher'] == playerID) & (data['on_1b'].isnull()) & (data['on_2b'].notnull()) & (data['on_3b'].notnull())), \n",
    "                                    ['pitcher', 'at_bat_number', 'pitch_type','type', 'plate_x', 'plate_z', 'strikes', 'balls', 'on_1b', 'on_2b', 'on_3b']]\n",
    "    \n",
    "    # runner on first, second, third\n",
    "    elif on_1b and  on_2b and on_3b:\n",
    "        situation_data = data.loc[((data['pitcher'] == playerID) & (data['on_1b'].notnull()) & (data['on_2b'].notnull()) & (data['on_3b'].notnull())), \n",
    "                                    ['pitcher', 'at_bat_number', 'pitch_type','type', 'plate_x', 'plate_z', 'strikes', 'balls', 'on_1b', 'on_2b', 'on_3b']]\n",
    "    # no runners on\n",
    "    elif not on_1b and not on_2b and not on_3b:\n",
    "        situation_data = data.loc[((data['pitcher'] == playerID) & (data['on_1b'].isnull()) & (data['on_2b'].isnull()) & (data['on_3b'].isnull())), \n",
    "                                    ['pitcher', 'at_bat_number', 'pitch_type','type', 'plate_x', 'plate_z', 'strikes', 'balls', 'on_1b', 'on_2b', 'on_3b']]\n",
    "    return situation_data"
   ]
  },
  {
   "cell_type": "code",
   "execution_count": null,
   "metadata": {},
   "outputs": [],
   "source": [
    "def isolate_data(sit_data):\n",
    "    # compare the types of pitches pitchers throw at home vs away\n",
    "    pitches = {}\n",
    "    descriptions = {}\n",
    "    pitch_type_counts = sit_data.groupby(['pitch_type']).count().reset_index()    \n",
    "    total_pitches = pitch_type_counts['pitcher'].sum()\n",
    "\n",
    "    #add the pitch types and their frequency to a dictionary \n",
    "    for index, row in pitch_type_counts.iterrows():\n",
    "        pitches[row['pitch_type']] = row['pitcher']\n",
    "        \n",
    "    # get mean location data\n",
    "    x_location_mean = sit_data['plate_x'].mean()\n",
    "    z_location_mean = sit_data['plate_z'].mean()\n",
    " \n",
    "    # get number of strikes/balls/hits thrown in situation\n",
    "    pitch_description_counts = sit_data.groupby(['type']).count().reset_index()\n",
    "    for index, row in pitch_description_counts.iterrows():\n",
    "        descriptions[row['type']] = row['pitcher']\n",
    "    \n",
    "    return total_pitches, pitches, descriptions, x_location_mean, z_location_mean"
   ]
  },
  {
   "cell_type": "code",
   "execution_count": null,
   "metadata": {},
   "outputs": [],
   "source": [
    "def process_data(isol_data):\n",
    "    # if there is data for this situation, isolate the data points we are looking for\n",
    "    tot_pitches, pitch_counts, pitch_descriptions, x_loc_mean, z_loc_mean = isolate_data(isol_data)\n",
    "    # get the most likely pitch to be thrown\n",
    "    max_pitch = 0\n",
    "    # dictonary to store the types of pitches they could throw and the statistical frequency that they will\n",
    "    pitch_freqs = {}\n",
    "    for key, value in pitch_counts.items():\n",
    "        pitch_freqs[key] = value/tot_pitches\n",
    "\n",
    "    # dictionary to store outcome percentages\n",
    "    outcome_freqs = {}\n",
    "    for key, value in pitch_descriptions.items():\n",
    "        outcome_freqs[key] = value/tot_pitches\n",
    "\n",
    "    return tot_pitches, pitch_freqs, outcome_freqs, x_loc_mean, z_loc_mean\n",
    "       "
   ]
  },
  {
   "cell_type": "code",
   "execution_count": null,
   "metadata": {},
   "outputs": [],
   "source": [
    "def display_results(p_data):\n",
    "    print(\"There are\", p_data[0], \"data points for this pitcher in this situation\")\n",
    "    \n",
    "    print(\"The odds that the pitcher will throw a specific pitch in this situation are the following \\n\", p_data[1])\n",
    "    plt.bar(range(len(p_data[1])), list(p_data[1].values()), align='center')\n",
    "    plt.xticks(range(len(p_data[1])), list(p_data[1].keys()))\n",
    "    plt.title(\"Pitch Frequencies\")\n",
    "    plt.xlabel(\"Pitch Type\")\n",
    "    plt.ylabel(\"Frequency\")\n",
    "    plt.show()\n",
    "    \n",
    "    print(\"The odds of a specific outcome (B - Ball, S - Strike, X - Ball In Play) are the following \\n\", p_data[2])\n",
    "    plt.bar(range(len(p_data[2])), list(p_data[2].values()), align='center')\n",
    "    plt.xticks(range(len(p_data[2])), list(p_data[2].keys()))\n",
    "    plt.title(\"Outcome Frequencies\")\n",
    "    plt.xlabel(\"Result of Pitch\")\n",
    "    plt.ylabel(\"Frequency\")\n",
    "    plt.show()\n",
    "    \n",
    "    # get the average location of where the pitch will be thrown based off the mean x (horizontal) location and mean z (vertical) location\n",
    "    print(\"The average position of the ball over the plate, from the catcher's perspective,\\n (0 in the x direction will be directly over the center of the plate horizontally, numbers in the y direction are an indication of how high the ball will be above the plate) \\n in this situation for this pitcher is \\n(\", p_data[3], \",\", p_data[4],\")\")\n",
    "    plt.plot(p_data[3], p_data[4], 'ro', markersize=15)\n",
    "    plt.grid(color='black', linestyle='-', linewidth=.8)\n",
    "    plt.axis([-5, 5, -5, 5])\n",
    "    plt.xlabel(\"Horiztional Position\")\n",
    "    plt.ylabel(\"Vertical Position\")\n",
    "    plt.title(\"Average Pitch Location\")\n",
    "    plt.show()"
   ]
  },
  {
   "cell_type": "code",
   "execution_count": null,
   "metadata": {},
   "outputs": [],
   "source": [
    "def driver(first, last, on_1b, on_2b, on_3b):\n",
    "    playerID = playerid_lookup(last, first)\n",
    "    pid = playerID.iloc[0]['key_mlbam']\n",
    "    # call the lookup function with the specified siutational parameters\n",
    "    SPB_data = lookup(pid, on_1b, on_2b, on_3b)\n",
    "    # if the length of the returned data frame is 0 there is no data for that specific situation\n",
    "    if (len(SPB_data) == 0):\n",
    "        print(\"No data available for described situation\")\n",
    "        return\n",
    "    \n",
    "    # process the isolated data\n",
    "    processed_data = process_data(SPB_data)\n",
    "\n",
    "    # display results\n",
    "    display_results(processed_data)"
   ]
  },
  {
   "cell_type": "markdown",
   "metadata": {},
   "source": [
    "## Demonstration ##\n",
    "Below is a demonstartion of how this application can be used. I will provide examples that show how pitchers change their behavior as situations change, but this application can be applied to any pitcher, not just the ones in my demonstration."
   ]
  },
  {
   "cell_type": "markdown",
   "metadata": {},
   "source": [
    "## Kyle Freeland ##"
   ]
  },
  {
   "cell_type": "code",
   "execution_count": null,
   "metadata": {},
   "outputs": [],
   "source": [
    "# first name, last name, on_1b, on_2b, on_3b\n",
    "driver(\"kyle\", \"freeland\", False, False, False)"
   ]
  },
  {
   "cell_type": "code",
   "execution_count": null,
   "metadata": {},
   "outputs": [],
   "source": [
    "# first name, last name, on_1b, on_2b, on_3b\n",
    "driver(\"kyle\", \"freeland\", True, True, False)"
   ]
  },
  {
   "cell_type": "code",
   "execution_count": null,
   "metadata": {},
   "outputs": [],
   "source": [
    "# first name, last name, on_1b, on_2b, on_3b\n",
    "driver(\"kyle\", \"freeland\", True, True, True)"
   ]
  },
  {
   "cell_type": "markdown",
   "metadata": {},
   "source": [
    "## Statistical Comparison ##\n",
    "SPB is very difficult to compare to traditional statistics. I will be taking mlb.com's list of most clutch pitchers of all time (https://www.mlb.com/news/best-clutch-pitchers-in-mlb-history-c298312438) and seeing how those pitchers have historically performed in high intensity situations from the SPB perspective. "
   ]
  },
  {
   "cell_type": "markdown",
   "metadata": {},
   "source": [
    "## Justin Verlander ##\n",
    "Verlander is credited with a very low career ERA and is said to be a very clutch pitcher. I will be using SPB to show how Verrlander has performed in three different high pressure situations"
   ]
  },
  {
   "cell_type": "markdown",
   "metadata": {},
   "source": [
    "#### Bases Loaded ####"
   ]
  },
  {
   "cell_type": "code",
   "execution_count": null,
   "metadata": {},
   "outputs": [],
   "source": [
    "# first name, last name, on_1b, on_2b, on_3b\n",
    "# bases loaded\n",
    "driver(\"justin\", \"verlander\", True, True, True)"
   ]
  },
  {
   "cell_type": "markdown",
   "metadata": {},
   "source": [
    "#### Runners on Second and Third ####"
   ]
  },
  {
   "cell_type": "code",
   "execution_count": null,
   "metadata": {},
   "outputs": [],
   "source": [
    "# first name, last name, strikes, balls, on_1b, on_2b, on_3b\n",
    "# runners on second and third \n",
    "driver(\"justin\", \"verlander\", False, True, True)"
   ]
  },
  {
   "cell_type": "markdown",
   "metadata": {},
   "source": [
    "#### Runners on first and second ####"
   ]
  },
  {
   "cell_type": "code",
   "execution_count": null,
   "metadata": {},
   "outputs": [],
   "source": [
    "# first name, last name, on_1b, on_2b, on_3b\n",
    "# runner on first and second \n",
    "driver(\"justin\", \"verlander\", True, True, False)"
   ]
  },
  {
   "cell_type": "markdown",
   "metadata": {},
   "source": [
    "## Analysis ##"
   ]
  },
  {
   "cell_type": "markdown",
   "metadata": {},
   "source": [
    "From an intuitive perspective, the three situations above all help support the case of Justin Verlander being a \"clutch\" player. When the bases are loaded he throws strikes 57% of the time. When there are runners on Second and Third he throws strikes 45% of the time. When there are runners on first and second he throws strikes 49% of the time. The data also shows that in these high pressure situations Verlander strongly favors throwing four seem fastballs (FF). This data can be useful for batters who have to face Verlander in these high pressure situations. Verlander also has a very low hit in to play percentage in all three situations. Tyically in these high pressure situations verlander throws the pitch straight over the center of the plate."
   ]
  },
  {
   "cell_type": "markdown",
   "metadata": {},
   "source": [
    "## Jake Arrieta ##"
   ]
  },
  {
   "cell_type": "markdown",
   "metadata": {},
   "source": [
    "#### Bases Loaded ####"
   ]
  },
  {
   "cell_type": "code",
   "execution_count": null,
   "metadata": {},
   "outputs": [],
   "source": [
    "# first name, last name, on_1b, on_2b, on_3b\n",
    "# bases loaded\n",
    "driver(\"jake\", \"arrieta\", True, True, True)"
   ]
  },
  {
   "cell_type": "markdown",
   "metadata": {},
   "source": [
    "#### Runners on Second and Third ####"
   ]
  },
  {
   "cell_type": "code",
   "execution_count": null,
   "metadata": {},
   "outputs": [],
   "source": [
    "# first name, last name, on_1b, on_2b, on_3b\n",
    "# bases loaded\n",
    "driver(\"jake\", \"arrieta\", False, True, True)"
   ]
  },
  {
   "cell_type": "markdown",
   "metadata": {},
   "source": [
    "#### Runners on First and Second ####"
   ]
  },
  {
   "cell_type": "code",
   "execution_count": null,
   "metadata": {
    "scrolled": true
   },
   "outputs": [],
   "source": [
    "# first name, last name, on_1b, on_2b, on_3b\n",
    "# bases loaded\n",
    "driver(\"jake\", \"arrieta\", True, True, False)"
   ]
  },
  {
   "cell_type": "markdown",
   "metadata": {},
   "source": [
    "## Analysis ##\n",
    "We can see that Jake Arrieta has a lower strike percentage than Verlander and also a heavy preference towards throwing sliders in these high pressure situations. This is very useful information for batters who have to face Arrieta, in fact Arrieta throws almost no four seem fast balls in these situations. The one similarity that Arrieta has to Verlander is there tendancy to throw directly over the plate in these situations. "
   ]
  }
 ],
 "metadata": {
  "kernelspec": {
   "display_name": "Python 3",
   "language": "python",
   "name": "python3"
  },
  "language_info": {
   "codemirror_mode": {
    "name": "ipython",
    "version": 3
   },
   "file_extension": ".py",
   "mimetype": "text/x-python",
   "name": "python",
   "nbconvert_exporter": "python",
   "pygments_lexer": "ipython3",
   "version": "3.6.5"
  }
 },
 "nbformat": 4,
 "nbformat_minor": 2
}
