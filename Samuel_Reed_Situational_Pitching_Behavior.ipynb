{
 "cells": [
  {
   "cell_type": "markdown",
   "metadata": {},
   "source": [
    "Sabermetrics Final Project Plan - Situational Pitching Behavior\n",
    "    - Write a function that takes a playerID, Score, Runners on as an argument and sets it to the player ID being searched\n",
    "    - Write a query to look up that playerID in certain situation\n",
    "    - Compile certain statistics such as most likely pitch and pitch location\n",
    "    - Present statitics gathered with plots/text"
   ]
  },
  {
   "cell_type": "code",
   "execution_count": 2,
   "metadata": {},
   "outputs": [
    {
     "name": "stdout",
     "output_type": "stream",
     "text": [
      "This is a large query, it may take a moment to complete\n",
      "Completed sub-query from 2017-04-01 to 2017-04-06\n",
      "Completed sub-query from 2017-04-07 to 2017-04-12\n",
      "Completed sub-query from 2017-04-13 to 2017-04-18\n",
      "Completed sub-query from 2017-04-19 to 2017-04-24\n",
      "Completed sub-query from 2017-04-25 to 2017-04-30\n",
      "Completed sub-query from 2017-05-01 to 2017-05-06\n",
      "Completed sub-query from 2017-05-07 to 2017-05-12\n",
      "Completed sub-query from 2017-05-13 to 2017-05-18\n",
      "Completed sub-query from 2017-05-19 to 2017-05-24\n",
      "Completed sub-query from 2017-05-25 to 2017-05-30\n",
      "Completed sub-query from 2017-05-31 to 2017-06-05\n",
      "Completed sub-query from 2017-06-06 to 2017-06-11\n",
      "Completed sub-query from 2017-06-12 to 2017-06-17\n",
      "Completed sub-query from 2017-06-18 to 2017-06-23\n",
      "Completed sub-query from 2017-06-24 to 2017-06-29\n",
      "Completed sub-query from 2017-06-30 to 2017-07-05\n",
      "Completed sub-query from 2017-07-06 to 2017-07-11\n",
      "Completed sub-query from 2017-07-12 to 2017-07-17\n",
      "Completed sub-query from 2017-07-18 to 2017-07-23\n",
      "Completed sub-query from 2017-07-24 to 2017-07-29\n",
      "Completed sub-query from 2017-07-30 to 2017-08-04\n",
      "Completed sub-query from 2017-08-05 to 2017-08-10\n",
      "Completed sub-query from 2017-08-11 to 2017-08-16\n",
      "Completed sub-query from 2017-08-17 to 2017-08-22\n",
      "Completed sub-query from 2017-08-23 to 2017-08-28\n",
      "Completed sub-query from 2017-08-29 to 2017-09-03\n",
      "Completed sub-query from 2017-09-04 to 2017-09-09\n",
      "Completed sub-query from 2017-09-10 to 2017-09-15\n",
      "Completed sub-query from 2017-09-16 to 2017-09-21\n",
      "Completed sub-query from 2017-09-22 to 2017-09-27\n",
      "Completed sub-query from 2017-09-28 to 2017-10-01\n"
     ]
    }
   ],
   "source": [
    "from pybaseball import statcast\n",
    "data = statcast(start_dt='2017-04-01', end_dt='2017-10-01')"
   ]
  },
  {
   "cell_type": "code",
   "execution_count": 3,
   "metadata": {},
   "outputs": [
    {
     "name": "stderr",
     "output_type": "stream",
     "text": [
      "C:\\Users\\Sam\\Anaconda3\\lib\\site-packages\\IPython\\core\\interactiveshell.py:2785: DtypeWarning: Columns (45) have mixed types. Specify dtype option on import or set low_memory=False.\n",
      "  interactivity=interactivity, compiler=compiler, result=result)\n"
     ]
    }
   ],
   "source": [
    "import pandas as pd\n",
    "data.to_csv(\"final_pitching_data.csv\")\n",
    "data = pd.read_csv(\"final_pitching_data.csv\") "
   ]
  },
  {
   "cell_type": "code",
   "execution_count": 31,
   "metadata": {},
   "outputs": [],
   "source": [
    "def lookup(playerID, strikes, balls, on_1b, on_2b, on_3b):\n",
    "    # runner on first\n",
    "    if on_1b and not on_2b and not on_3b:\n",
    "        situation_data = data.loc[((data['pitcher'] == playerID) & (data['strikes'] == strikes) & (data['balls'] == balls)\n",
    "                                   & (data['on_1b'].notnull()) & (data['on_2b'].isnull()) & (data['on_3b'].isnull())), \n",
    "                                    ['pitcher', 'at_bat_number', 'pitch_type','type', 'plate_x', 'plate_z', 'strikes', 'balls', 'on_1b', 'on_2b', 'on_3b']]\n",
    "    \n",
    "    # runner on second\n",
    "    elif not on_1b and on_2b and not on_3b:\n",
    "        situation_data = data.loc[((data['pitcher'] == playerID) & (data['strikes'] == strikes) & (data['balls'] == balls)\n",
    "                                   & (data['on_1b'].isnull()) & (data['on_2b'].notnull()) & (data['on_3b'].isnull())), \n",
    "                                    ['pitcher', 'at_bat_number', 'pitch_type','type', 'plate_x', 'plate_z', 'strikes', 'balls', 'on_1b', 'on_2b', 'on_3b']]\n",
    "    \n",
    "    # runner on third\n",
    "    elif not on_1b and not on_2b and on_3b:\n",
    "        situation_data = data.loc[((data['pitcher'] == playerID) & (data['strikes'] == strikes) & (data['balls'] == balls)\n",
    "                                   & (data['on_1b'].isnull()) & (data['on_2b'].isnull()) & (data['on_3b'].notnull())), \n",
    "                                    ['pitcher', 'at_bat_number', 'pitch_type','type', 'plate_x', 'plate_z', 'strikes', 'balls', 'on_1b', 'on_2b', 'on_3b']]\n",
    "   \n",
    "    # runner on first and second\n",
    "    elif on_1b and on_2b and not on_3b:\n",
    "        situation_data = data.loc[((data['pitcher'] == playerID) & (data['strikes'] == strikes) & (data['balls'] == balls)\n",
    "                                   & (data['on_1b'].notnull()) & (data['on_2b'].notnull()) & (data['on_3b'].isnull())), \n",
    "                                    ['pitcher', 'at_bat_number', 'pitch_type','type', 'plate_x', 'plate_z', 'strikes', 'balls', 'on_1b', 'on_2b', 'on_3b']]\n",
    "    \n",
    "    # runner on first and third \n",
    "    elif on_1b and not on_2b and on_3b:\n",
    "        situation_data = data.loc[((data['pitcher'] == playerID) & (data['strikes'] == strikes) & (data['balls'] == balls)\n",
    "                                   & (data['on_1b'].notnull()) & (data['on_2b'].isnull()) & (data['on_3b'].notnull())), \n",
    "                                    ['pitcher', 'at_bat_number', 'pitch_type','type', 'plate_x', 'plate_z', 'strikes', 'balls', 'on_1b', 'on_2b', 'on_3b']]\n",
    "    \n",
    "    # runner on second and third\n",
    "    elif not on_1b and on_2b and on_3b:\n",
    "        situation_data = data.loc[((data['pitcher'] == playerID) & (data['strikes'] == strikes) & (data['balls'] == balls)\n",
    "                                   & (data['on_1b'].isnull()) & (data['on_2b'].notnull()) & (data['on_3b'].notnull())), \n",
    "                                    ['pitcher', 'at_bat_number', 'pitch_type','type', 'plate_x', 'plate_z', 'strikes', 'balls', 'on_1b', 'on_2b', 'on_3b']]\n",
    "    \n",
    "    # runner on first, second, third\n",
    "    elif on_1b and  on_2b and on_3b:\n",
    "        situation_data = data.loc[((data['pitcher'] == playerID) & (data['strikes'] == strikes) & (data['balls'] == balls)\n",
    "                                   & (data['on_1b'].notnull()) & (data['on_2b'].notnull()) & (data['on_3b'].notnull())), \n",
    "                                    ['pitcher', 'at_bat_number', 'pitch_type','type', 'plate_x', 'plate_z', 'strikes', 'balls', 'on_1b', 'on_2b', 'on_3b']]\n",
    "    # no runners on\n",
    "    elif not on_1b and not on_2b and not on_3b:\n",
    "        situation_data = data.loc[((data['pitcher'] == playerID) & (data['strikes'] == strikes) & (data['balls'] == balls)\n",
    "                                   & (data['on_1b'].isnull()) & (data['on_2b'].isnull()) & (data['on_3b'].isnull())), \n",
    "                                    ['pitcher', 'at_bat_number', 'pitch_type','type', 'plate_x', 'plate_z', 'strikes', 'balls', 'on_1b', 'on_2b', 'on_3b']]\n",
    "    return situation_data"
   ]
  },
  {
   "cell_type": "code",
   "execution_count": 32,
   "metadata": {},
   "outputs": [],
   "source": [
    "def isolate_data(sit_data):\n",
    "    # compare the types of pitches pitchers throw at home vs away\n",
    "    pitches = {}\n",
    "    descriptions = {}\n",
    "    \n",
    "    pitch_type_counts = sit_data.groupby(['pitch_type']).count().reset_index()    \n",
    "    total_pitches = pitch_type_counts['pitcher'].sum()\n",
    "\n",
    "    #add the pitch types and their frequency to a dictionary \n",
    "    for index, row in pitch_type_counts.iterrows():\n",
    "        pitches[row['pitch_type']] = row['pitcher']\n",
    "        \n",
    "    # get mean location data\n",
    "    x_location_mean = sit_data['plate_x'].mean()\n",
    "    z_location_mean = sit_data['plate_z'].mean()\n",
    " \n",
    "    # get number of strikes/balls/hits thrown in situation\n",
    "    pitch_description_counts = sit_data.groupby(['type']).count().reset_index()\n",
    "    for index, row in pitch_description_counts.iterrows():\n",
    "        descriptions[row['type']] = row['pitcher']\n",
    "    \n",
    "    return total_pitches, pitches, descriptions, x_location_mean, z_location_mean"
   ]
  },
  {
   "cell_type": "code",
   "execution_count": 44,
   "metadata": {},
   "outputs": [
    {
     "name": "stdout",
     "output_type": "stream",
     "text": [
      "There are 160 data points for this pitcher in this situation\n",
      "The odds that the pitcher will throw a specific pitch in this situation are the following \n",
      " {'CH': 0.03125, 'FC': 0.33125, 'FF': 0.425, 'FT': 0.125, 'SL': 0.0875}\n",
      "The odds of a specific outcome (B - Ball, S - Strike, X - Ball In Play) are the following \n",
      " {'B': 0.36875, 'S': 0.51875, 'X': 0.11875}\n",
      "The average horizontal position of the ball over the plate (0 being directly over the center of the plate) in this situation for this pitcher is \n",
      " 0.297565\n",
      "The average vertical position of the ball over the plate (0 being directly in the center of the strike zone) in this situation is \n",
      " 2.3820175000000003\n"
     ]
    }
   ],
   "source": [
    "# call the lookup function with the specified siutational parameters\n",
    "SPB_data = lookup(532077.0, 0, 0, False, False, False)\n",
    "\n",
    "# if the length of the returned data frame is 0 there is no data for that specific situation\n",
    "if len(SPB_data) == 0:\n",
    "    print(\"No data available for described situation\")\n",
    "else:\n",
    "    # if there is data for this situation, isolate the data points we are looking for\n",
    "    tot_pitches, pitch_counts, pitch_descriptions, x_loc_mean, z_loc_mean = isolate_data(SPB_data)\n",
    "    \n",
    "    # get the most likely pitch to be thrown\n",
    "    max_pitch = 0\n",
    "    # dictonary to store the types of pitches they could throw and the statistical frequency that they will\n",
    "    pitch_freqs = {}\n",
    "    for key, value in pitch_counts.items():\n",
    "        pitch_freqs[key] = value/tot_pitches\n",
    "    \n",
    "    # dictionary to store outcome percentages\n",
    "    outcome_freqs = {}\n",
    "    for key, value in pitch_descriptions.items():\n",
    "        outcome_freqs[key] = value/tot_pitches\n",
    "    \n",
    "    print(\"There are\", tot_pitches, \"data points for this pitcher in this situation\")\n",
    "    print(\"The odds that the pitcher will throw a specific pitch in this situation are the following \\n\", pitch_freqs)\n",
    "    print(\"The odds of a specific outcome (B - Ball, S - Strike, X - Ball In Play) are the following \\n\", outcome_freqs)\n",
    "    print(\"The average horizontal position of the ball over the plate (0 being directly over the center of the plate) in this situation for this pitcher is \\n\", x_loc_mean)\n",
    "    print(\"The average vertical position of the ball over the plate (0 being directly in the center of the strike zone) in this situation is \\n\", z_loc_mean)"
   ]
  }
 ],
 "metadata": {
  "kernelspec": {
   "display_name": "Python 3",
   "language": "python",
   "name": "python3"
  },
  "language_info": {
   "codemirror_mode": {
    "name": "ipython",
    "version": 3
   },
   "file_extension": ".py",
   "mimetype": "text/x-python",
   "name": "python",
   "nbconvert_exporter": "python",
   "pygments_lexer": "ipython3",
   "version": "3.6.5"
  }
 },
 "nbformat": 4,
 "nbformat_minor": 2
}
